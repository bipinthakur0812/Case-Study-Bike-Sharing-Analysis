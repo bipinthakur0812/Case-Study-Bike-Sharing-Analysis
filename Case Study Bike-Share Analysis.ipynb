{
 "cells": [
  {
   "cell_type": "markdown",
   "id": "1eec0d27-f8bf-4b83-98da-75f81774cb6c",
   "metadata": {},
   "source": [
    "# Case Study Bike-Share Analysis"
   ]
  },
  {
   "cell_type": "code",
   "execution_count": 65,
   "id": "bff4143b-1ad3-4af1-948c-d693b79f0587",
   "metadata": {},
   "outputs": [],
   "source": [
    "import pandas as pd\n",
    "import numpy as np"
   ]
  },
  {
   "cell_type": "markdown",
   "id": "7f706a3f-a732-43c2-af74-27e3f688dbcf",
   "metadata": {},
   "source": [
    "## DATA PREPARE"
   ]
  },
  {
   "cell_type": "markdown",
   "id": "d34494ff-0f19-4f8a-9852-72e323a7ebfe",
   "metadata": {},
   "source": [
    "### Importing Data and Checking Uniformity using shape"
   ]
  },
  {
   "cell_type": "code",
   "execution_count": 29,
   "id": "a69199ea-049e-47b1-8bef-c8415a7a767c",
   "metadata": {},
   "outputs": [
    {
     "data": {
      "text/plain": [
       "(767650, 13)"
      ]
     },
     "execution_count": 29,
     "metadata": {},
     "output_type": "execute_result"
    }
   ],
   "source": [
    "df1 = pd.read_csv(\"2023_07.csv\")\n",
    "df1.shape"
   ]
  },
  {
   "cell_type": "code",
   "execution_count": 30,
   "id": "523ce060-762e-4f07-b184-764db57061f7",
   "metadata": {},
   "outputs": [
    {
     "name": "stderr",
     "output_type": "stream",
     "text": [
      "C:\\Users\\dell\\AppData\\Local\\Temp\\ipykernel_1744\\1099825489.py:1: DtypeWarning: Columns (9) have mixed types. Specify dtype option on import or set low_memory=False.\n",
      "  df2 = pd.read_csv(\"2023_08.csv\")\n"
     ]
    },
    {
     "data": {
      "text/plain": [
       "(135350, 13)"
      ]
     },
     "execution_count": 30,
     "metadata": {},
     "output_type": "execute_result"
    }
   ],
   "source": [
    "df2 = pd.read_csv(\"2023_08.csv\")\n",
    "df2.shape"
   ]
  },
  {
   "cell_type": "code",
   "execution_count": 31,
   "id": "bced082a-4aee-4a37-a1f6-cae50f1f8b25",
   "metadata": {},
   "outputs": [
    {
     "data": {
      "text/plain": [
       "(666371, 13)"
      ]
     },
     "execution_count": 31,
     "metadata": {},
     "output_type": "execute_result"
    }
   ],
   "source": [
    "df3 = pd.read_csv(\"2023_09.csv\")\n",
    "df3.shape"
   ]
  },
  {
   "cell_type": "code",
   "execution_count": 32,
   "id": "f718065a-d001-4e0e-94af-ede42e2c3c40",
   "metadata": {},
   "outputs": [
    {
     "data": {
      "text/plain": [
       "(537113, 13)"
      ]
     },
     "execution_count": 32,
     "metadata": {},
     "output_type": "execute_result"
    }
   ],
   "source": [
    "df4 = pd.read_csv(\"2023_10.csv\")\n",
    "df4.shape"
   ]
  },
  {
   "cell_type": "code",
   "execution_count": 33,
   "id": "01cecd41-52a7-48ea-a972-635575655775",
   "metadata": {},
   "outputs": [
    {
     "data": {
      "text/plain": [
       "(362518, 13)"
      ]
     },
     "execution_count": 33,
     "metadata": {},
     "output_type": "execute_result"
    }
   ],
   "source": [
    "df5 = pd.read_csv(\"2023_11.csv\")\n",
    "df5.shape"
   ]
  },
  {
   "cell_type": "code",
   "execution_count": 34,
   "id": "e3707367-3b82-4df9-a951-44620bba4501",
   "metadata": {},
   "outputs": [
    {
     "data": {
      "text/plain": [
       "(224073, 13)"
      ]
     },
     "execution_count": 34,
     "metadata": {},
     "output_type": "execute_result"
    }
   ],
   "source": [
    "df6 = pd.read_csv(\"2023_12.csv\")\n",
    "df6.shape"
   ]
  },
  {
   "cell_type": "code",
   "execution_count": 36,
   "id": "e1975a71-292c-42f5-998e-a193cf0d6662",
   "metadata": {},
   "outputs": [
    {
     "data": {
      "text/plain": [
       "(144873, 13)"
      ]
     },
     "execution_count": 36,
     "metadata": {},
     "output_type": "execute_result"
    }
   ],
   "source": [
    "df7 = pd.read_csv(\"2024_01.csv\")\n",
    "df7.shape"
   ]
  },
  {
   "cell_type": "code",
   "execution_count": 43,
   "id": "9505b749-5c78-40e7-9828-4b15b7b70abc",
   "metadata": {},
   "outputs": [
    {
     "data": {
      "text/plain": [
       "(223164, 13)"
      ]
     },
     "execution_count": 43,
     "metadata": {},
     "output_type": "execute_result"
    }
   ],
   "source": [
    "df8 = pd.read_csv(\"2024_02.csv\")\n",
    "df8.shape"
   ]
  },
  {
   "cell_type": "code",
   "execution_count": 44,
   "id": "8945e819-6060-41a4-a740-9491a760c929",
   "metadata": {},
   "outputs": [
    {
     "data": {
      "text/plain": [
       "(301687, 13)"
      ]
     },
     "execution_count": 44,
     "metadata": {},
     "output_type": "execute_result"
    }
   ],
   "source": [
    "df9 = pd.read_csv(\"2024_03.csv\")\n",
    "df9.shape"
   ]
  },
  {
   "cell_type": "code",
   "execution_count": 46,
   "id": "01c5d60d-c699-4c00-96eb-fe1fa6924a54",
   "metadata": {},
   "outputs": [
    {
     "data": {
      "text/plain": [
       "(415025, 13)"
      ]
     },
     "execution_count": 46,
     "metadata": {},
     "output_type": "execute_result"
    }
   ],
   "source": [
    "df10 = pd.read_csv(\"2024_04.csv\")\n",
    "df10.shape"
   ]
  },
  {
   "cell_type": "code",
   "execution_count": 47,
   "id": "a1f4c083-7aa0-469c-8e96-72af58ff66be",
   "metadata": {},
   "outputs": [
    {
     "data": {
      "text/plain": [
       "(609493, 13)"
      ]
     },
     "execution_count": 47,
     "metadata": {},
     "output_type": "execute_result"
    }
   ],
   "source": [
    "df11 = pd.read_csv(\"2024_05.csv\")\n",
    "df11.shape"
   ]
  },
  {
   "cell_type": "code",
   "execution_count": 49,
   "id": "e20d5deb-8e63-46bf-9569-d8396bfcc247",
   "metadata": {},
   "outputs": [
    {
     "data": {
      "text/plain": [
       "(710721, 13)"
      ]
     },
     "execution_count": 49,
     "metadata": {},
     "output_type": "execute_result"
    }
   ],
   "source": [
    "df12 = pd.read_csv(\"2024_06.csv\")\n",
    "df12.shape"
   ]
  },
  {
   "cell_type": "markdown",
   "id": "1234b879-c6c1-47f8-b02a-8fd5a688a52f",
   "metadata": {},
   "source": [
    "### Merging Data into one single file"
   ]
  },
  {
   "cell_type": "code",
   "execution_count": 155,
   "id": "16727a4b-47af-4499-a35f-ea482af09bd9",
   "metadata": {},
   "outputs": [],
   "source": [
    "dfall = pd.concat([df1,df2,df3,df4,df5,df6,df7,df8,df9,df10,df11,df12], ignore_index = True)"
   ]
  },
  {
   "cell_type": "code",
   "execution_count": 156,
   "id": "4f68e21c-b882-4868-86e4-e6d36421695f",
   "metadata": {},
   "outputs": [
    {
     "data": {
      "text/plain": [
       "(5098038, 13)"
      ]
     },
     "execution_count": 156,
     "metadata": {},
     "output_type": "execute_result"
    }
   ],
   "source": [
    "dfall.shape"
   ]
  },
  {
   "cell_type": "code",
   "execution_count": 159,
   "id": "8dcead36-82eb-4a40-b43c-8c7308a6a1ae",
   "metadata": {},
   "outputs": [
    {
     "data": {
      "text/html": [
       "<div>\n",
       "<style scoped>\n",
       "    .dataframe tbody tr th:only-of-type {\n",
       "        vertical-align: middle;\n",
       "    }\n",
       "\n",
       "    .dataframe tbody tr th {\n",
       "        vertical-align: top;\n",
       "    }\n",
       "\n",
       "    .dataframe thead th {\n",
       "        text-align: right;\n",
       "    }\n",
       "</style>\n",
       "<table border=\"1\" class=\"dataframe\">\n",
       "  <thead>\n",
       "    <tr style=\"text-align: right;\">\n",
       "      <th></th>\n",
       "      <th>ride_id</th>\n",
       "      <th>rideable_type</th>\n",
       "      <th>started_at</th>\n",
       "      <th>ended_at</th>\n",
       "      <th>start_station_name</th>\n",
       "      <th>start_station_id</th>\n",
       "      <th>end_station_name</th>\n",
       "      <th>end_station_id</th>\n",
       "      <th>start_lat</th>\n",
       "      <th>start_lng</th>\n",
       "      <th>end_lat</th>\n",
       "      <th>end_lng</th>\n",
       "      <th>member_casual</th>\n",
       "    </tr>\n",
       "  </thead>\n",
       "  <tbody>\n",
       "    <tr>\n",
       "      <th>0</th>\n",
       "      <td>9340B064F0AEE130</td>\n",
       "      <td>electric_bike</td>\n",
       "      <td>2023-07-23 20:06:14</td>\n",
       "      <td>2023-07-23 20:22:44</td>\n",
       "      <td>Kedzie Ave &amp; 110th St</td>\n",
       "      <td>20204</td>\n",
       "      <td>Public Rack - Racine Ave &amp; 109th Pl</td>\n",
       "      <td>877</td>\n",
       "      <td>41.692406</td>\n",
       "      <td>-87.700905</td>\n",
       "      <td>41.694835</td>\n",
       "      <td>-87.653041</td>\n",
       "      <td>member</td>\n",
       "    </tr>\n",
       "    <tr>\n",
       "      <th>1</th>\n",
       "      <td>D1460EE3CE0D8AF8</td>\n",
       "      <td>classic_bike</td>\n",
       "      <td>2023-07-23 17:05:07</td>\n",
       "      <td>2023-07-23 17:18:37</td>\n",
       "      <td>Western Ave &amp; Walton St</td>\n",
       "      <td>KA1504000103</td>\n",
       "      <td>Milwaukee Ave &amp; Grand Ave</td>\n",
       "      <td>13033</td>\n",
       "      <td>41.898418</td>\n",
       "      <td>-87.686596</td>\n",
       "      <td>41.891578</td>\n",
       "      <td>-87.648384</td>\n",
       "      <td>member</td>\n",
       "    </tr>\n",
       "    <tr>\n",
       "      <th>2</th>\n",
       "      <td>DF41BE31B895A25E</td>\n",
       "      <td>classic_bike</td>\n",
       "      <td>2023-07-23 10:14:53</td>\n",
       "      <td>2023-07-23 10:24:29</td>\n",
       "      <td>Western Ave &amp; Walton St</td>\n",
       "      <td>KA1504000103</td>\n",
       "      <td>Damen Ave &amp; Pierce Ave</td>\n",
       "      <td>TA1305000041</td>\n",
       "      <td>41.898418</td>\n",
       "      <td>-87.686596</td>\n",
       "      <td>41.909396</td>\n",
       "      <td>-87.677692</td>\n",
       "      <td>member</td>\n",
       "    </tr>\n",
       "    <tr>\n",
       "      <th>3</th>\n",
       "      <td>9624A293749EF703</td>\n",
       "      <td>electric_bike</td>\n",
       "      <td>2023-07-21 08:27:44</td>\n",
       "      <td>2023-07-21 08:32:40</td>\n",
       "      <td>Racine Ave &amp; Randolph St</td>\n",
       "      <td>13155</td>\n",
       "      <td>Clinton St &amp; Madison St</td>\n",
       "      <td>TA1305000032</td>\n",
       "      <td>41.884112</td>\n",
       "      <td>-87.656943</td>\n",
       "      <td>41.882752</td>\n",
       "      <td>-87.641190</td>\n",
       "      <td>member</td>\n",
       "    </tr>\n",
       "    <tr>\n",
       "      <th>4</th>\n",
       "      <td>2F68A6A4CDB4C99A</td>\n",
       "      <td>classic_bike</td>\n",
       "      <td>2023-07-08 15:46:42</td>\n",
       "      <td>2023-07-08 15:58:08</td>\n",
       "      <td>Clark St &amp; Leland Ave</td>\n",
       "      <td>TA1309000014</td>\n",
       "      <td>Montrose Harbor</td>\n",
       "      <td>TA1308000012</td>\n",
       "      <td>41.967088</td>\n",
       "      <td>-87.667291</td>\n",
       "      <td>41.963982</td>\n",
       "      <td>-87.638181</td>\n",
       "      <td>member</td>\n",
       "    </tr>\n",
       "  </tbody>\n",
       "</table>\n",
       "</div>"
      ],
      "text/plain": [
       "            ride_id  rideable_type           started_at             ended_at  \\\n",
       "0  9340B064F0AEE130  electric_bike  2023-07-23 20:06:14  2023-07-23 20:22:44   \n",
       "1  D1460EE3CE0D8AF8   classic_bike  2023-07-23 17:05:07  2023-07-23 17:18:37   \n",
       "2  DF41BE31B895A25E   classic_bike  2023-07-23 10:14:53  2023-07-23 10:24:29   \n",
       "3  9624A293749EF703  electric_bike  2023-07-21 08:27:44  2023-07-21 08:32:40   \n",
       "4  2F68A6A4CDB4C99A   classic_bike  2023-07-08 15:46:42  2023-07-08 15:58:08   \n",
       "\n",
       "         start_station_name start_station_id  \\\n",
       "0     Kedzie Ave & 110th St            20204   \n",
       "1   Western Ave & Walton St     KA1504000103   \n",
       "2   Western Ave & Walton St     KA1504000103   \n",
       "3  Racine Ave & Randolph St            13155   \n",
       "4     Clark St & Leland Ave     TA1309000014   \n",
       "\n",
       "                      end_station_name end_station_id  start_lat  start_lng  \\\n",
       "0  Public Rack - Racine Ave & 109th Pl            877  41.692406 -87.700905   \n",
       "1            Milwaukee Ave & Grand Ave          13033  41.898418 -87.686596   \n",
       "2               Damen Ave & Pierce Ave   TA1305000041  41.898418 -87.686596   \n",
       "3              Clinton St & Madison St   TA1305000032  41.884112 -87.656943   \n",
       "4                      Montrose Harbor   TA1308000012  41.967088 -87.667291   \n",
       "\n",
       "     end_lat    end_lng member_casual  \n",
       "0  41.694835 -87.653041        member  \n",
       "1  41.891578 -87.648384        member  \n",
       "2  41.909396 -87.677692        member  \n",
       "3  41.882752 -87.641190        member  \n",
       "4  41.963982 -87.638181        member  "
      ]
     },
     "execution_count": 159,
     "metadata": {},
     "output_type": "execute_result"
    }
   ],
   "source": [
    "dfall.head()"
   ]
  },
  {
   "cell_type": "markdown",
   "id": "c94d3c4a-f1ce-47ed-8b0b-6595f639bcad",
   "metadata": {},
   "source": [
    "## Data Cleaning"
   ]
  },
  {
   "cell_type": "markdown",
   "id": "26fc28aa-7747-418f-9575-74f8964a5ab8",
   "metadata": {},
   "source": [
    "### Dropping Columns"
   ]
  },
  {
   "cell_type": "code",
   "execution_count": 163,
   "id": "64699b01-f7b8-4d93-9584-2df37d0884ec",
   "metadata": {},
   "outputs": [
    {
     "data": {
      "text/plain": [
       "Index(['ride_id', 'rideable_type', 'started_at', 'ended_at',\n",
       "       'start_station_name', 'start_station_id', 'end_station_name',\n",
       "       'end_station_id', 'start_lat', 'start_lng', 'end_lat', 'end_lng',\n",
       "       'member_casual'],\n",
       "      dtype='object')"
      ]
     },
     "execution_count": 163,
     "metadata": {},
     "output_type": "execute_result"
    }
   ],
   "source": [
    "dfall.columns"
   ]
  },
  {
   "cell_type": "code",
   "execution_count": 165,
   "id": "589309b4-fa87-4a73-afbf-af8efb15a8c5",
   "metadata": {},
   "outputs": [],
   "source": [
    "dfall.drop(['ride_id','start_station_name', 'start_station_id', 'end_station_name','end_station_id'],axis = 1, inplace = True)"
   ]
  },
  {
   "cell_type": "code",
   "execution_count": 167,
   "id": "3ea1a64a-cb16-4984-89ae-133c51ccb65a",
   "metadata": {},
   "outputs": [
    {
     "data": {
      "text/html": [
       "<div>\n",
       "<style scoped>\n",
       "    .dataframe tbody tr th:only-of-type {\n",
       "        vertical-align: middle;\n",
       "    }\n",
       "\n",
       "    .dataframe tbody tr th {\n",
       "        vertical-align: top;\n",
       "    }\n",
       "\n",
       "    .dataframe thead th {\n",
       "        text-align: right;\n",
       "    }\n",
       "</style>\n",
       "<table border=\"1\" class=\"dataframe\">\n",
       "  <thead>\n",
       "    <tr style=\"text-align: right;\">\n",
       "      <th></th>\n",
       "      <th>rideable_type</th>\n",
       "      <th>started_at</th>\n",
       "      <th>ended_at</th>\n",
       "      <th>start_lat</th>\n",
       "      <th>start_lng</th>\n",
       "      <th>end_lat</th>\n",
       "      <th>end_lng</th>\n",
       "      <th>member_casual</th>\n",
       "    </tr>\n",
       "  </thead>\n",
       "  <tbody>\n",
       "    <tr>\n",
       "      <th>0</th>\n",
       "      <td>electric_bike</td>\n",
       "      <td>2023-07-23 20:06:14</td>\n",
       "      <td>2023-07-23 20:22:44</td>\n",
       "      <td>41.692406</td>\n",
       "      <td>-87.700905</td>\n",
       "      <td>41.694835</td>\n",
       "      <td>-87.653041</td>\n",
       "      <td>member</td>\n",
       "    </tr>\n",
       "    <tr>\n",
       "      <th>1</th>\n",
       "      <td>classic_bike</td>\n",
       "      <td>2023-07-23 17:05:07</td>\n",
       "      <td>2023-07-23 17:18:37</td>\n",
       "      <td>41.898418</td>\n",
       "      <td>-87.686596</td>\n",
       "      <td>41.891578</td>\n",
       "      <td>-87.648384</td>\n",
       "      <td>member</td>\n",
       "    </tr>\n",
       "    <tr>\n",
       "      <th>2</th>\n",
       "      <td>classic_bike</td>\n",
       "      <td>2023-07-23 10:14:53</td>\n",
       "      <td>2023-07-23 10:24:29</td>\n",
       "      <td>41.898418</td>\n",
       "      <td>-87.686596</td>\n",
       "      <td>41.909396</td>\n",
       "      <td>-87.677692</td>\n",
       "      <td>member</td>\n",
       "    </tr>\n",
       "    <tr>\n",
       "      <th>3</th>\n",
       "      <td>electric_bike</td>\n",
       "      <td>2023-07-21 08:27:44</td>\n",
       "      <td>2023-07-21 08:32:40</td>\n",
       "      <td>41.884112</td>\n",
       "      <td>-87.656943</td>\n",
       "      <td>41.882752</td>\n",
       "      <td>-87.641190</td>\n",
       "      <td>member</td>\n",
       "    </tr>\n",
       "    <tr>\n",
       "      <th>4</th>\n",
       "      <td>classic_bike</td>\n",
       "      <td>2023-07-08 15:46:42</td>\n",
       "      <td>2023-07-08 15:58:08</td>\n",
       "      <td>41.967088</td>\n",
       "      <td>-87.667291</td>\n",
       "      <td>41.963982</td>\n",
       "      <td>-87.638181</td>\n",
       "      <td>member</td>\n",
       "    </tr>\n",
       "  </tbody>\n",
       "</table>\n",
       "</div>"
      ],
      "text/plain": [
       "   rideable_type           started_at             ended_at  start_lat  \\\n",
       "0  electric_bike  2023-07-23 20:06:14  2023-07-23 20:22:44  41.692406   \n",
       "1   classic_bike  2023-07-23 17:05:07  2023-07-23 17:18:37  41.898418   \n",
       "2   classic_bike  2023-07-23 10:14:53  2023-07-23 10:24:29  41.898418   \n",
       "3  electric_bike  2023-07-21 08:27:44  2023-07-21 08:32:40  41.884112   \n",
       "4   classic_bike  2023-07-08 15:46:42  2023-07-08 15:58:08  41.967088   \n",
       "\n",
       "   start_lng    end_lat    end_lng member_casual  \n",
       "0 -87.700905  41.694835 -87.653041        member  \n",
       "1 -87.686596  41.891578 -87.648384        member  \n",
       "2 -87.686596  41.909396 -87.677692        member  \n",
       "3 -87.656943  41.882752 -87.641190        member  \n",
       "4 -87.667291  41.963982 -87.638181        member  "
      ]
     },
     "execution_count": 167,
     "metadata": {},
     "output_type": "execute_result"
    }
   ],
   "source": [
    "dfall.head()"
   ]
  },
  {
   "cell_type": "markdown",
   "id": "ed8330ef-3070-441c-8154-5a3100103935",
   "metadata": {},
   "source": [
    "### Changing Data Types"
   ]
  },
  {
   "cell_type": "code",
   "execution_count": 200,
   "id": "0c1402dd-b1b3-4a08-a6d5-f84d457dc0b3",
   "metadata": {},
   "outputs": [],
   "source": [
    "dfall['started_at'] = pd.to_datetime(dfall['started_at'], format = 'mixed', dayfirst = True)"
   ]
  },
  {
   "cell_type": "code",
   "execution_count": 216,
   "id": "455ae5bf-a906-4b96-982b-22fc17679842",
   "metadata": {},
   "outputs": [],
   "source": [
    "dfall['ended_at'] = pd.to_datetime(dfall['ended_at'], format = 'mixed', dayfirst = True)"
   ]
  },
  {
   "cell_type": "code",
   "execution_count": 225,
   "id": "18e79715-3376-4df2-a5af-f3c73ff975e0",
   "metadata": {},
   "outputs": [],
   "source": [
    "dfall['start_lng'] = pd.to_numeric(dfall['start_lng'], errors='coerce')"
   ]
  },
  {
   "cell_type": "code",
   "execution_count": 230,
   "id": "33a6eee2-8f68-42f2-b987-c7c33b63abbb",
   "metadata": {},
   "outputs": [
    {
     "data": {
      "text/plain": [
       "rideable_type            object\n",
       "started_at       datetime64[ns]\n",
       "ended_at         datetime64[ns]\n",
       "start_lat               float64\n",
       "start_lng               float64\n",
       "end_lat                 float64\n",
       "end_lng                 float64\n",
       "member_casual            object\n",
       "dtype: object"
      ]
     },
     "execution_count": 230,
     "metadata": {},
     "output_type": "execute_result"
    }
   ],
   "source": [
    "dfall.dtypes"
   ]
  },
  {
   "cell_type": "markdown",
   "id": "4523c623-a09d-47a7-a7bb-33552b3a270e",
   "metadata": {},
   "source": [
    "### Dropping Duplicate values"
   ]
  },
  {
   "cell_type": "code",
   "execution_count": 241,
   "id": "9826eb97-678a-424c-8e86-2c80fa36a59f",
   "metadata": {},
   "outputs": [
    {
     "data": {
      "text/plain": [
       "(5091069, 8)"
      ]
     },
     "execution_count": 241,
     "metadata": {},
     "output_type": "execute_result"
    }
   ],
   "source": [
    "dfall.shape"
   ]
  },
  {
   "cell_type": "code",
   "execution_count": 243,
   "id": "991611a7-e112-4f0c-8849-2b7114f39b0e",
   "metadata": {},
   "outputs": [],
   "source": [
    "dfall.drop_duplicates(inplace = True)"
   ]
  },
  {
   "cell_type": "code",
   "execution_count": 245,
   "id": "73e0d1e7-288c-4eb3-8f93-7862b5db8ee2",
   "metadata": {},
   "outputs": [
    {
     "data": {
      "text/plain": [
       "(5091069, 8)"
      ]
     },
     "execution_count": 245,
     "metadata": {},
     "output_type": "execute_result"
    }
   ],
   "source": [
    "dfall.shape"
   ]
  },
  {
   "cell_type": "markdown",
   "id": "5a9b4cc6-f115-4926-b702-c1ca04a6fba9",
   "metadata": {},
   "source": [
    "### Checking for Outliers or Null Values"
   ]
  },
  {
   "cell_type": "code",
   "execution_count": 248,
   "id": "f1868856-e1a3-43c8-85bc-a6c073d5bfa3",
   "metadata": {},
   "outputs": [
    {
     "data": {
      "text/plain": [
       "array(['electric_bike', 'classic_bike', 'docked_bike'], dtype=object)"
      ]
     },
     "execution_count": 248,
     "metadata": {},
     "output_type": "execute_result"
    }
   ],
   "source": [
    "dfall['rideable_type'].unique()"
   ]
  },
  {
   "cell_type": "code",
   "execution_count": 250,
   "id": "b56e72e7-2fe8-4ebb-9e0e-c2f76bfb0652",
   "metadata": {},
   "outputs": [
    {
     "data": {
      "text/plain": [
       "array(['member', 'casual'], dtype=object)"
      ]
     },
     "execution_count": 250,
     "metadata": {},
     "output_type": "execute_result"
    }
   ],
   "source": [
    "dfall['member_casual'].unique()"
   ]
  },
  {
   "cell_type": "markdown",
   "id": "3287168d-d715-414c-b559-86e7ee621810",
   "metadata": {},
   "source": [
    "#### There are some null values in this columns so we will drop them."
   ]
  },
  {
   "cell_type": "markdown",
   "id": "c29b9d03-fbd3-4d3b-a1bf-916d612654e0",
   "metadata": {},
   "source": [
    "### Dropping null values in member column"
   ]
  },
  {
   "cell_type": "code",
   "execution_count": 254,
   "id": "914a15ef-d544-4645-9caf-0ce0cd41f01d",
   "metadata": {},
   "outputs": [],
   "source": [
    "dfall.dropna(inplace = True)"
   ]
  },
  {
   "cell_type": "code",
   "execution_count": 255,
   "id": "6b64cf06-05d7-435c-8713-0e5ad1b9d634",
   "metadata": {},
   "outputs": [
    {
     "data": {
      "text/plain": [
       "(5091069, 8)"
      ]
     },
     "execution_count": 255,
     "metadata": {},
     "output_type": "execute_result"
    }
   ],
   "source": [
    "dfall.shape"
   ]
  },
  {
   "cell_type": "code",
   "execution_count": 258,
   "id": "49e750b5-b60e-4a59-902c-19b59fb9c004",
   "metadata": {},
   "outputs": [
    {
     "data": {
      "text/plain": [
       "array(['member', 'casual'], dtype=object)"
      ]
     },
     "execution_count": 258,
     "metadata": {},
     "output_type": "execute_result"
    }
   ],
   "source": [
    "dfall['member_casual'].unique()"
   ]
  },
  {
   "cell_type": "markdown",
   "id": "3ade5857-ecc0-48f8-b6ad-456673190fda",
   "metadata": {},
   "source": [
    "### Adding Columns"
   ]
  },
  {
   "cell_type": "code",
   "execution_count": 261,
   "id": "ffaad35e-2d3d-418a-a286-1754b4543c1e",
   "metadata": {},
   "outputs": [
    {
     "data": {
      "text/html": [
       "<div>\n",
       "<style scoped>\n",
       "    .dataframe tbody tr th:only-of-type {\n",
       "        vertical-align: middle;\n",
       "    }\n",
       "\n",
       "    .dataframe tbody tr th {\n",
       "        vertical-align: top;\n",
       "    }\n",
       "\n",
       "    .dataframe thead th {\n",
       "        text-align: right;\n",
       "    }\n",
       "</style>\n",
       "<table border=\"1\" class=\"dataframe\">\n",
       "  <thead>\n",
       "    <tr style=\"text-align: right;\">\n",
       "      <th></th>\n",
       "      <th>rideable_type</th>\n",
       "      <th>started_at</th>\n",
       "      <th>ended_at</th>\n",
       "      <th>start_lat</th>\n",
       "      <th>start_lng</th>\n",
       "      <th>end_lat</th>\n",
       "      <th>end_lng</th>\n",
       "      <th>member_casual</th>\n",
       "    </tr>\n",
       "  </thead>\n",
       "  <tbody>\n",
       "    <tr>\n",
       "      <th>0</th>\n",
       "      <td>electric_bike</td>\n",
       "      <td>2023-07-23 20:06:14</td>\n",
       "      <td>2023-07-23 20:22:44</td>\n",
       "      <td>41.692406</td>\n",
       "      <td>-87.700905</td>\n",
       "      <td>41.694835</td>\n",
       "      <td>-87.653041</td>\n",
       "      <td>member</td>\n",
       "    </tr>\n",
       "    <tr>\n",
       "      <th>1</th>\n",
       "      <td>classic_bike</td>\n",
       "      <td>2023-07-23 17:05:07</td>\n",
       "      <td>2023-07-23 17:18:37</td>\n",
       "      <td>41.898418</td>\n",
       "      <td>-87.686596</td>\n",
       "      <td>41.891578</td>\n",
       "      <td>-87.648384</td>\n",
       "      <td>member</td>\n",
       "    </tr>\n",
       "    <tr>\n",
       "      <th>2</th>\n",
       "      <td>classic_bike</td>\n",
       "      <td>2023-07-23 10:14:53</td>\n",
       "      <td>2023-07-23 10:24:29</td>\n",
       "      <td>41.898418</td>\n",
       "      <td>-87.686596</td>\n",
       "      <td>41.909396</td>\n",
       "      <td>-87.677692</td>\n",
       "      <td>member</td>\n",
       "    </tr>\n",
       "    <tr>\n",
       "      <th>3</th>\n",
       "      <td>electric_bike</td>\n",
       "      <td>2023-07-21 08:27:44</td>\n",
       "      <td>2023-07-21 08:32:40</td>\n",
       "      <td>41.884112</td>\n",
       "      <td>-87.656943</td>\n",
       "      <td>41.882752</td>\n",
       "      <td>-87.641190</td>\n",
       "      <td>member</td>\n",
       "    </tr>\n",
       "    <tr>\n",
       "      <th>4</th>\n",
       "      <td>classic_bike</td>\n",
       "      <td>2023-07-08 15:46:42</td>\n",
       "      <td>2023-07-08 15:58:08</td>\n",
       "      <td>41.967088</td>\n",
       "      <td>-87.667291</td>\n",
       "      <td>41.963982</td>\n",
       "      <td>-87.638181</td>\n",
       "      <td>member</td>\n",
       "    </tr>\n",
       "  </tbody>\n",
       "</table>\n",
       "</div>"
      ],
      "text/plain": [
       "   rideable_type          started_at            ended_at  start_lat  \\\n",
       "0  electric_bike 2023-07-23 20:06:14 2023-07-23 20:22:44  41.692406   \n",
       "1   classic_bike 2023-07-23 17:05:07 2023-07-23 17:18:37  41.898418   \n",
       "2   classic_bike 2023-07-23 10:14:53 2023-07-23 10:24:29  41.898418   \n",
       "3  electric_bike 2023-07-21 08:27:44 2023-07-21 08:32:40  41.884112   \n",
       "4   classic_bike 2023-07-08 15:46:42 2023-07-08 15:58:08  41.967088   \n",
       "\n",
       "   start_lng    end_lat    end_lng member_casual  \n",
       "0 -87.700905  41.694835 -87.653041        member  \n",
       "1 -87.686596  41.891578 -87.648384        member  \n",
       "2 -87.686596  41.909396 -87.677692        member  \n",
       "3 -87.656943  41.882752 -87.641190        member  \n",
       "4 -87.667291  41.963982 -87.638181        member  "
      ]
     },
     "execution_count": 261,
     "metadata": {},
     "output_type": "execute_result"
    }
   ],
   "source": [
    "dfall.head()"
   ]
  },
  {
   "cell_type": "code",
   "execution_count": 273,
   "id": "15e66cd0-4557-4374-82a9-ef5bbcebd3f7",
   "metadata": {},
   "outputs": [],
   "source": [
    "dfall['ride_time'] = dfall['ended_at'] - dfall['started_at']"
   ]
  },
  {
   "cell_type": "code",
   "execution_count": 275,
   "id": "2e732714-1691-45ce-99e3-a848441a74c9",
   "metadata": {},
   "outputs": [
    {
     "data": {
      "text/html": [
       "<div>\n",
       "<style scoped>\n",
       "    .dataframe tbody tr th:only-of-type {\n",
       "        vertical-align: middle;\n",
       "    }\n",
       "\n",
       "    .dataframe tbody tr th {\n",
       "        vertical-align: top;\n",
       "    }\n",
       "\n",
       "    .dataframe thead th {\n",
       "        text-align: right;\n",
       "    }\n",
       "</style>\n",
       "<table border=\"1\" class=\"dataframe\">\n",
       "  <thead>\n",
       "    <tr style=\"text-align: right;\">\n",
       "      <th></th>\n",
       "      <th>rideable_type</th>\n",
       "      <th>started_at</th>\n",
       "      <th>ended_at</th>\n",
       "      <th>start_lat</th>\n",
       "      <th>start_lng</th>\n",
       "      <th>end_lat</th>\n",
       "      <th>end_lng</th>\n",
       "      <th>member_casual</th>\n",
       "      <th>ride_time</th>\n",
       "    </tr>\n",
       "  </thead>\n",
       "  <tbody>\n",
       "    <tr>\n",
       "      <th>0</th>\n",
       "      <td>electric_bike</td>\n",
       "      <td>2023-07-23 20:06:14</td>\n",
       "      <td>2023-07-23 20:22:44</td>\n",
       "      <td>41.692406</td>\n",
       "      <td>-87.700905</td>\n",
       "      <td>41.694835</td>\n",
       "      <td>-87.653041</td>\n",
       "      <td>member</td>\n",
       "      <td>0 days 00:16:30</td>\n",
       "    </tr>\n",
       "    <tr>\n",
       "      <th>1</th>\n",
       "      <td>classic_bike</td>\n",
       "      <td>2023-07-23 17:05:07</td>\n",
       "      <td>2023-07-23 17:18:37</td>\n",
       "      <td>41.898418</td>\n",
       "      <td>-87.686596</td>\n",
       "      <td>41.891578</td>\n",
       "      <td>-87.648384</td>\n",
       "      <td>member</td>\n",
       "      <td>0 days 00:13:30</td>\n",
       "    </tr>\n",
       "    <tr>\n",
       "      <th>2</th>\n",
       "      <td>classic_bike</td>\n",
       "      <td>2023-07-23 10:14:53</td>\n",
       "      <td>2023-07-23 10:24:29</td>\n",
       "      <td>41.898418</td>\n",
       "      <td>-87.686596</td>\n",
       "      <td>41.909396</td>\n",
       "      <td>-87.677692</td>\n",
       "      <td>member</td>\n",
       "      <td>0 days 00:09:36</td>\n",
       "    </tr>\n",
       "    <tr>\n",
       "      <th>3</th>\n",
       "      <td>electric_bike</td>\n",
       "      <td>2023-07-21 08:27:44</td>\n",
       "      <td>2023-07-21 08:32:40</td>\n",
       "      <td>41.884112</td>\n",
       "      <td>-87.656943</td>\n",
       "      <td>41.882752</td>\n",
       "      <td>-87.641190</td>\n",
       "      <td>member</td>\n",
       "      <td>0 days 00:04:56</td>\n",
       "    </tr>\n",
       "    <tr>\n",
       "      <th>4</th>\n",
       "      <td>classic_bike</td>\n",
       "      <td>2023-07-08 15:46:42</td>\n",
       "      <td>2023-07-08 15:58:08</td>\n",
       "      <td>41.967088</td>\n",
       "      <td>-87.667291</td>\n",
       "      <td>41.963982</td>\n",
       "      <td>-87.638181</td>\n",
       "      <td>member</td>\n",
       "      <td>0 days 00:11:26</td>\n",
       "    </tr>\n",
       "  </tbody>\n",
       "</table>\n",
       "</div>"
      ],
      "text/plain": [
       "   rideable_type          started_at            ended_at  start_lat  \\\n",
       "0  electric_bike 2023-07-23 20:06:14 2023-07-23 20:22:44  41.692406   \n",
       "1   classic_bike 2023-07-23 17:05:07 2023-07-23 17:18:37  41.898418   \n",
       "2   classic_bike 2023-07-23 10:14:53 2023-07-23 10:24:29  41.898418   \n",
       "3  electric_bike 2023-07-21 08:27:44 2023-07-21 08:32:40  41.884112   \n",
       "4   classic_bike 2023-07-08 15:46:42 2023-07-08 15:58:08  41.967088   \n",
       "\n",
       "   start_lng    end_lat    end_lng member_casual       ride_time  \n",
       "0 -87.700905  41.694835 -87.653041        member 0 days 00:16:30  \n",
       "1 -87.686596  41.891578 -87.648384        member 0 days 00:13:30  \n",
       "2 -87.686596  41.909396 -87.677692        member 0 days 00:09:36  \n",
       "3 -87.656943  41.882752 -87.641190        member 0 days 00:04:56  \n",
       "4 -87.667291  41.963982 -87.638181        member 0 days 00:11:26  "
      ]
     },
     "execution_count": 275,
     "metadata": {},
     "output_type": "execute_result"
    }
   ],
   "source": [
    "dfall.head()"
   ]
  },
  {
   "cell_type": "code",
   "execution_count": 277,
   "id": "b08f2b5f-d219-43bc-802e-97904f06e20f",
   "metadata": {},
   "outputs": [
    {
     "data": {
      "text/plain": [
       "rideable_type             object\n",
       "started_at        datetime64[ns]\n",
       "ended_at          datetime64[ns]\n",
       "start_lat                float64\n",
       "start_lng                float64\n",
       "end_lat                  float64\n",
       "end_lng                  float64\n",
       "member_casual             object\n",
       "ride_time        timedelta64[ns]\n",
       "dtype: object"
      ]
     },
     "execution_count": 277,
     "metadata": {},
     "output_type": "execute_result"
    }
   ],
   "source": [
    "dfall.dtypes"
   ]
  },
  {
   "cell_type": "code",
   "execution_count": 287,
   "id": "a73aedcc-9298-4116-8003-212c73ce3ba9",
   "metadata": {},
   "outputs": [],
   "source": [
    "dfall['ride_time'] = dfall['ride_time'].dt.total_seconds()/3600.0"
   ]
  },
  {
   "cell_type": "code",
   "execution_count": 289,
   "id": "6039f3bc-60a7-4219-ad8e-f785c2eb7940",
   "metadata": {},
   "outputs": [
    {
     "data": {
      "text/html": [
       "<div>\n",
       "<style scoped>\n",
       "    .dataframe tbody tr th:only-of-type {\n",
       "        vertical-align: middle;\n",
       "    }\n",
       "\n",
       "    .dataframe tbody tr th {\n",
       "        vertical-align: top;\n",
       "    }\n",
       "\n",
       "    .dataframe thead th {\n",
       "        text-align: right;\n",
       "    }\n",
       "</style>\n",
       "<table border=\"1\" class=\"dataframe\">\n",
       "  <thead>\n",
       "    <tr style=\"text-align: right;\">\n",
       "      <th></th>\n",
       "      <th>rideable_type</th>\n",
       "      <th>started_at</th>\n",
       "      <th>ended_at</th>\n",
       "      <th>start_lat</th>\n",
       "      <th>start_lng</th>\n",
       "      <th>end_lat</th>\n",
       "      <th>end_lng</th>\n",
       "      <th>member_casual</th>\n",
       "      <th>ride_time</th>\n",
       "    </tr>\n",
       "  </thead>\n",
       "  <tbody>\n",
       "    <tr>\n",
       "      <th>0</th>\n",
       "      <td>electric_bike</td>\n",
       "      <td>2023-07-23 20:06:14</td>\n",
       "      <td>2023-07-23 20:22:44</td>\n",
       "      <td>41.692406</td>\n",
       "      <td>-87.700905</td>\n",
       "      <td>41.694835</td>\n",
       "      <td>-87.653041</td>\n",
       "      <td>member</td>\n",
       "      <td>0.275000</td>\n",
       "    </tr>\n",
       "    <tr>\n",
       "      <th>1</th>\n",
       "      <td>classic_bike</td>\n",
       "      <td>2023-07-23 17:05:07</td>\n",
       "      <td>2023-07-23 17:18:37</td>\n",
       "      <td>41.898418</td>\n",
       "      <td>-87.686596</td>\n",
       "      <td>41.891578</td>\n",
       "      <td>-87.648384</td>\n",
       "      <td>member</td>\n",
       "      <td>0.225000</td>\n",
       "    </tr>\n",
       "    <tr>\n",
       "      <th>2</th>\n",
       "      <td>classic_bike</td>\n",
       "      <td>2023-07-23 10:14:53</td>\n",
       "      <td>2023-07-23 10:24:29</td>\n",
       "      <td>41.898418</td>\n",
       "      <td>-87.686596</td>\n",
       "      <td>41.909396</td>\n",
       "      <td>-87.677692</td>\n",
       "      <td>member</td>\n",
       "      <td>0.160000</td>\n",
       "    </tr>\n",
       "    <tr>\n",
       "      <th>3</th>\n",
       "      <td>electric_bike</td>\n",
       "      <td>2023-07-21 08:27:44</td>\n",
       "      <td>2023-07-21 08:32:40</td>\n",
       "      <td>41.884112</td>\n",
       "      <td>-87.656943</td>\n",
       "      <td>41.882752</td>\n",
       "      <td>-87.641190</td>\n",
       "      <td>member</td>\n",
       "      <td>0.082222</td>\n",
       "    </tr>\n",
       "    <tr>\n",
       "      <th>4</th>\n",
       "      <td>classic_bike</td>\n",
       "      <td>2023-07-08 15:46:42</td>\n",
       "      <td>2023-07-08 15:58:08</td>\n",
       "      <td>41.967088</td>\n",
       "      <td>-87.667291</td>\n",
       "      <td>41.963982</td>\n",
       "      <td>-87.638181</td>\n",
       "      <td>member</td>\n",
       "      <td>0.190556</td>\n",
       "    </tr>\n",
       "  </tbody>\n",
       "</table>\n",
       "</div>"
      ],
      "text/plain": [
       "   rideable_type          started_at            ended_at  start_lat  \\\n",
       "0  electric_bike 2023-07-23 20:06:14 2023-07-23 20:22:44  41.692406   \n",
       "1   classic_bike 2023-07-23 17:05:07 2023-07-23 17:18:37  41.898418   \n",
       "2   classic_bike 2023-07-23 10:14:53 2023-07-23 10:24:29  41.898418   \n",
       "3  electric_bike 2023-07-21 08:27:44 2023-07-21 08:32:40  41.884112   \n",
       "4   classic_bike 2023-07-08 15:46:42 2023-07-08 15:58:08  41.967088   \n",
       "\n",
       "   start_lng    end_lat    end_lng member_casual  ride_time  \n",
       "0 -87.700905  41.694835 -87.653041        member   0.275000  \n",
       "1 -87.686596  41.891578 -87.648384        member   0.225000  \n",
       "2 -87.686596  41.909396 -87.677692        member   0.160000  \n",
       "3 -87.656943  41.882752 -87.641190        member   0.082222  \n",
       "4 -87.667291  41.963982 -87.638181        member   0.190556  "
      ]
     },
     "execution_count": 289,
     "metadata": {},
     "output_type": "execute_result"
    }
   ],
   "source": [
    "dfall.head()"
   ]
  },
  {
   "cell_type": "code",
   "execution_count": 291,
   "id": "966bc26f-399e-43d1-85c0-5b70ab5553ea",
   "metadata": {},
   "outputs": [],
   "source": [
    "dfall['ride_time'] = round(dfall['ride_time'],2)"
   ]
  },
  {
   "cell_type": "code",
   "execution_count": 297,
   "id": "5a7b6b08-67bc-4b9e-bab6-8c9869d61d8f",
   "metadata": {},
   "outputs": [
    {
     "data": {
      "text/html": [
       "<div>\n",
       "<style scoped>\n",
       "    .dataframe tbody tr th:only-of-type {\n",
       "        vertical-align: middle;\n",
       "    }\n",
       "\n",
       "    .dataframe tbody tr th {\n",
       "        vertical-align: top;\n",
       "    }\n",
       "\n",
       "    .dataframe thead th {\n",
       "        text-align: right;\n",
       "    }\n",
       "</style>\n",
       "<table border=\"1\" class=\"dataframe\">\n",
       "  <thead>\n",
       "    <tr style=\"text-align: right;\">\n",
       "      <th></th>\n",
       "      <th>rideable_type</th>\n",
       "      <th>started_at</th>\n",
       "      <th>ended_at</th>\n",
       "      <th>start_lat</th>\n",
       "      <th>start_lng</th>\n",
       "      <th>end_lat</th>\n",
       "      <th>end_lng</th>\n",
       "      <th>member_casual</th>\n",
       "      <th>ride_time</th>\n",
       "    </tr>\n",
       "  </thead>\n",
       "  <tbody>\n",
       "    <tr>\n",
       "      <th>0</th>\n",
       "      <td>electric_bike</td>\n",
       "      <td>2023-07-23 20:06:14</td>\n",
       "      <td>2023-07-23 20:22:44</td>\n",
       "      <td>41.692406</td>\n",
       "      <td>-87.700905</td>\n",
       "      <td>41.694835</td>\n",
       "      <td>-87.653041</td>\n",
       "      <td>member</td>\n",
       "      <td>0.28</td>\n",
       "    </tr>\n",
       "    <tr>\n",
       "      <th>1</th>\n",
       "      <td>classic_bike</td>\n",
       "      <td>2023-07-23 17:05:07</td>\n",
       "      <td>2023-07-23 17:18:37</td>\n",
       "      <td>41.898418</td>\n",
       "      <td>-87.686596</td>\n",
       "      <td>41.891578</td>\n",
       "      <td>-87.648384</td>\n",
       "      <td>member</td>\n",
       "      <td>0.22</td>\n",
       "    </tr>\n",
       "    <tr>\n",
       "      <th>2</th>\n",
       "      <td>classic_bike</td>\n",
       "      <td>2023-07-23 10:14:53</td>\n",
       "      <td>2023-07-23 10:24:29</td>\n",
       "      <td>41.898418</td>\n",
       "      <td>-87.686596</td>\n",
       "      <td>41.909396</td>\n",
       "      <td>-87.677692</td>\n",
       "      <td>member</td>\n",
       "      <td>0.16</td>\n",
       "    </tr>\n",
       "    <tr>\n",
       "      <th>3</th>\n",
       "      <td>electric_bike</td>\n",
       "      <td>2023-07-21 08:27:44</td>\n",
       "      <td>2023-07-21 08:32:40</td>\n",
       "      <td>41.884112</td>\n",
       "      <td>-87.656943</td>\n",
       "      <td>41.882752</td>\n",
       "      <td>-87.641190</td>\n",
       "      <td>member</td>\n",
       "      <td>0.08</td>\n",
       "    </tr>\n",
       "    <tr>\n",
       "      <th>4</th>\n",
       "      <td>classic_bike</td>\n",
       "      <td>2023-07-08 15:46:42</td>\n",
       "      <td>2023-07-08 15:58:08</td>\n",
       "      <td>41.967088</td>\n",
       "      <td>-87.667291</td>\n",
       "      <td>41.963982</td>\n",
       "      <td>-87.638181</td>\n",
       "      <td>member</td>\n",
       "      <td>0.19</td>\n",
       "    </tr>\n",
       "  </tbody>\n",
       "</table>\n",
       "</div>"
      ],
      "text/plain": [
       "   rideable_type          started_at            ended_at  start_lat  \\\n",
       "0  electric_bike 2023-07-23 20:06:14 2023-07-23 20:22:44  41.692406   \n",
       "1   classic_bike 2023-07-23 17:05:07 2023-07-23 17:18:37  41.898418   \n",
       "2   classic_bike 2023-07-23 10:14:53 2023-07-23 10:24:29  41.898418   \n",
       "3  electric_bike 2023-07-21 08:27:44 2023-07-21 08:32:40  41.884112   \n",
       "4   classic_bike 2023-07-08 15:46:42 2023-07-08 15:58:08  41.967088   \n",
       "\n",
       "   start_lng    end_lat    end_lng member_casual  ride_time  \n",
       "0 -87.700905  41.694835 -87.653041        member       0.28  \n",
       "1 -87.686596  41.891578 -87.648384        member       0.22  \n",
       "2 -87.686596  41.909396 -87.677692        member       0.16  \n",
       "3 -87.656943  41.882752 -87.641190        member       0.08  \n",
       "4 -87.667291  41.963982 -87.638181        member       0.19  "
      ]
     },
     "execution_count": 297,
     "metadata": {},
     "output_type": "execute_result"
    }
   ],
   "source": [
    "dfall.head()"
   ]
  },
  {
   "cell_type": "code",
   "execution_count": 357,
   "id": "228db076-249c-4bdf-8db0-d441dd6d9c9c",
   "metadata": {},
   "outputs": [],
   "source": [
    "dfall['weekday'] = dfall['started_at'].dt.day_of_week"
   ]
  },
  {
   "cell_type": "code",
   "execution_count": 363,
   "id": "1c357708-f0d4-4165-a2e9-8ee384650386",
   "metadata": {},
   "outputs": [
    {
     "data": {
      "text/html": [
       "<div>\n",
       "<style scoped>\n",
       "    .dataframe tbody tr th:only-of-type {\n",
       "        vertical-align: middle;\n",
       "    }\n",
       "\n",
       "    .dataframe tbody tr th {\n",
       "        vertical-align: top;\n",
       "    }\n",
       "\n",
       "    .dataframe thead th {\n",
       "        text-align: right;\n",
       "    }\n",
       "</style>\n",
       "<table border=\"1\" class=\"dataframe\">\n",
       "  <thead>\n",
       "    <tr style=\"text-align: right;\">\n",
       "      <th></th>\n",
       "      <th>rideable_type</th>\n",
       "      <th>started_at</th>\n",
       "      <th>ended_at</th>\n",
       "      <th>start_lat</th>\n",
       "      <th>start_lng</th>\n",
       "      <th>end_lat</th>\n",
       "      <th>end_lng</th>\n",
       "      <th>member_casual</th>\n",
       "      <th>ride_time</th>\n",
       "      <th>weekday</th>\n",
       "    </tr>\n",
       "  </thead>\n",
       "  <tbody>\n",
       "    <tr>\n",
       "      <th>0</th>\n",
       "      <td>electric_bike</td>\n",
       "      <td>2023-07-23 20:06:14</td>\n",
       "      <td>2023-07-23 20:22:44</td>\n",
       "      <td>41.692406</td>\n",
       "      <td>-87.700905</td>\n",
       "      <td>41.694835</td>\n",
       "      <td>-87.653041</td>\n",
       "      <td>member</td>\n",
       "      <td>0.28</td>\n",
       "      <td>6</td>\n",
       "    </tr>\n",
       "    <tr>\n",
       "      <th>1</th>\n",
       "      <td>classic_bike</td>\n",
       "      <td>2023-07-23 17:05:07</td>\n",
       "      <td>2023-07-23 17:18:37</td>\n",
       "      <td>41.898418</td>\n",
       "      <td>-87.686596</td>\n",
       "      <td>41.891578</td>\n",
       "      <td>-87.648384</td>\n",
       "      <td>member</td>\n",
       "      <td>0.22</td>\n",
       "      <td>6</td>\n",
       "    </tr>\n",
       "    <tr>\n",
       "      <th>2</th>\n",
       "      <td>classic_bike</td>\n",
       "      <td>2023-07-23 10:14:53</td>\n",
       "      <td>2023-07-23 10:24:29</td>\n",
       "      <td>41.898418</td>\n",
       "      <td>-87.686596</td>\n",
       "      <td>41.909396</td>\n",
       "      <td>-87.677692</td>\n",
       "      <td>member</td>\n",
       "      <td>0.16</td>\n",
       "      <td>6</td>\n",
       "    </tr>\n",
       "    <tr>\n",
       "      <th>3</th>\n",
       "      <td>electric_bike</td>\n",
       "      <td>2023-07-21 08:27:44</td>\n",
       "      <td>2023-07-21 08:32:40</td>\n",
       "      <td>41.884112</td>\n",
       "      <td>-87.656943</td>\n",
       "      <td>41.882752</td>\n",
       "      <td>-87.641190</td>\n",
       "      <td>member</td>\n",
       "      <td>0.08</td>\n",
       "      <td>4</td>\n",
       "    </tr>\n",
       "    <tr>\n",
       "      <th>4</th>\n",
       "      <td>classic_bike</td>\n",
       "      <td>2023-07-08 15:46:42</td>\n",
       "      <td>2023-07-08 15:58:08</td>\n",
       "      <td>41.967088</td>\n",
       "      <td>-87.667291</td>\n",
       "      <td>41.963982</td>\n",
       "      <td>-87.638181</td>\n",
       "      <td>member</td>\n",
       "      <td>0.19</td>\n",
       "      <td>5</td>\n",
       "    </tr>\n",
       "  </tbody>\n",
       "</table>\n",
       "</div>"
      ],
      "text/plain": [
       "   rideable_type          started_at            ended_at  start_lat  \\\n",
       "0  electric_bike 2023-07-23 20:06:14 2023-07-23 20:22:44  41.692406   \n",
       "1   classic_bike 2023-07-23 17:05:07 2023-07-23 17:18:37  41.898418   \n",
       "2   classic_bike 2023-07-23 10:14:53 2023-07-23 10:24:29  41.898418   \n",
       "3  electric_bike 2023-07-21 08:27:44 2023-07-21 08:32:40  41.884112   \n",
       "4   classic_bike 2023-07-08 15:46:42 2023-07-08 15:58:08  41.967088   \n",
       "\n",
       "   start_lng    end_lat    end_lng member_casual  ride_time  weekday  \n",
       "0 -87.700905  41.694835 -87.653041        member       0.28        6  \n",
       "1 -87.686596  41.891578 -87.648384        member       0.22        6  \n",
       "2 -87.686596  41.909396 -87.677692        member       0.16        6  \n",
       "3 -87.656943  41.882752 -87.641190        member       0.08        4  \n",
       "4 -87.667291  41.963982 -87.638181        member       0.19        5  "
      ]
     },
     "execution_count": 363,
     "metadata": {},
     "output_type": "execute_result"
    }
   ],
   "source": [
    "dfall.drop(['week_day'],axis=1,inplace = True)\n",
    "dfall.head()"
   ]
  },
  {
   "cell_type": "markdown",
   "id": "15ab1004-64d4-4feb-9386-d95089ff7287",
   "metadata": {},
   "source": [
    "## Data Analysis"
   ]
  },
  {
   "cell_type": "code",
   "execution_count": 370,
   "id": "31423d39-9271-4f2a-889a-05b550c2825f",
   "metadata": {},
   "outputs": [
    {
     "data": {
      "text/plain": [
       "0.25672764010858984"
      ]
     },
     "execution_count": 370,
     "metadata": {},
     "output_type": "execute_result"
    }
   ],
   "source": [
    "dfall['ride_time'].mean()"
   ]
  },
  {
   "cell_type": "code",
   "execution_count": 402,
   "id": "b37b6ad0-4efd-47e8-a88e-4e0935d4efb9",
   "metadata": {},
   "outputs": [
    {
     "data": {
      "text/plain": [
       "89.65"
      ]
     },
     "execution_count": 402,
     "metadata": {},
     "output_type": "execute_result"
    }
   ],
   "source": [
    "dfall['ride_time'].max()"
   ]
  },
  {
   "cell_type": "code",
   "execution_count": 376,
   "id": "72be8123-f7c4-4eef-b17a-b5132ddd2f2c",
   "metadata": {},
   "outputs": [
    {
     "data": {
      "text/plain": [
       "-277.61"
      ]
     },
     "execution_count": 376,
     "metadata": {},
     "output_type": "execute_result"
    }
   ],
   "source": [
    "dfall['ride_time'].min()"
   ]
  },
  {
   "cell_type": "code",
   "execution_count": 396,
   "id": "45ad2cc4-a87d-4c3b-9a33-0d6f2255602a",
   "metadata": {},
   "outputs": [
    {
     "data": {
      "text/plain": [
       "ride_time\n",
       "True     5038333\n",
       "False      52736\n",
       "Name: count, dtype: int64"
      ]
     },
     "execution_count": 396,
     "metadata": {},
     "output_type": "execute_result"
    }
   ],
   "source": [
    "(dfall['ride_time'] > 0).value_counts()"
   ]
  },
  {
   "cell_type": "code",
   "execution_count": 442,
   "id": "08a5ba5d-b7c4-4685-bdf4-21b56395a9cc",
   "metadata": {},
   "outputs": [],
   "source": [
    "dfall.drop(['started_at', 'ended_at','start_lat','end_lat','start_lng','end_lng'],axis = 1, inplace = True)"
   ]
  },
  {
   "cell_type": "code",
   "execution_count": 444,
   "id": "1338a18b-419c-4006-bd52-cdaa8adb7c6b",
   "metadata": {},
   "outputs": [
    {
     "data": {
      "text/html": [
       "<div>\n",
       "<style scoped>\n",
       "    .dataframe tbody tr th:only-of-type {\n",
       "        vertical-align: middle;\n",
       "    }\n",
       "\n",
       "    .dataframe tbody tr th {\n",
       "        vertical-align: top;\n",
       "    }\n",
       "\n",
       "    .dataframe thead th {\n",
       "        text-align: right;\n",
       "    }\n",
       "</style>\n",
       "<table border=\"1\" class=\"dataframe\">\n",
       "  <thead>\n",
       "    <tr style=\"text-align: right;\">\n",
       "      <th></th>\n",
       "      <th>rideable_type</th>\n",
       "      <th>member_casual</th>\n",
       "      <th>ride_time</th>\n",
       "      <th>weekday</th>\n",
       "    </tr>\n",
       "  </thead>\n",
       "  <tbody>\n",
       "    <tr>\n",
       "      <th>0</th>\n",
       "      <td>electric_bike</td>\n",
       "      <td>member</td>\n",
       "      <td>0.28</td>\n",
       "      <td>6</td>\n",
       "    </tr>\n",
       "    <tr>\n",
       "      <th>1</th>\n",
       "      <td>classic_bike</td>\n",
       "      <td>member</td>\n",
       "      <td>0.22</td>\n",
       "      <td>6</td>\n",
       "    </tr>\n",
       "    <tr>\n",
       "      <th>2</th>\n",
       "      <td>classic_bike</td>\n",
       "      <td>member</td>\n",
       "      <td>0.16</td>\n",
       "      <td>6</td>\n",
       "    </tr>\n",
       "    <tr>\n",
       "      <th>3</th>\n",
       "      <td>electric_bike</td>\n",
       "      <td>member</td>\n",
       "      <td>0.08</td>\n",
       "      <td>4</td>\n",
       "    </tr>\n",
       "    <tr>\n",
       "      <th>4</th>\n",
       "      <td>classic_bike</td>\n",
       "      <td>member</td>\n",
       "      <td>0.19</td>\n",
       "      <td>5</td>\n",
       "    </tr>\n",
       "    <tr>\n",
       "      <th>...</th>\n",
       "      <td>...</td>\n",
       "      <td>...</td>\n",
       "      <td>...</td>\n",
       "      <td>...</td>\n",
       "    </tr>\n",
       "    <tr>\n",
       "      <th>5098033</th>\n",
       "      <td>electric_bike</td>\n",
       "      <td>member</td>\n",
       "      <td>0.13</td>\n",
       "      <td>1</td>\n",
       "    </tr>\n",
       "    <tr>\n",
       "      <th>5098034</th>\n",
       "      <td>electric_bike</td>\n",
       "      <td>member</td>\n",
       "      <td>0.02</td>\n",
       "      <td>0</td>\n",
       "    </tr>\n",
       "    <tr>\n",
       "      <th>5098035</th>\n",
       "      <td>electric_bike</td>\n",
       "      <td>member</td>\n",
       "      <td>0.04</td>\n",
       "      <td>6</td>\n",
       "    </tr>\n",
       "    <tr>\n",
       "      <th>5098036</th>\n",
       "      <td>electric_bike</td>\n",
       "      <td>member</td>\n",
       "      <td>0.14</td>\n",
       "      <td>1</td>\n",
       "    </tr>\n",
       "    <tr>\n",
       "      <th>5098037</th>\n",
       "      <td>electric_bike</td>\n",
       "      <td>member</td>\n",
       "      <td>0.06</td>\n",
       "      <td>5</td>\n",
       "    </tr>\n",
       "  </tbody>\n",
       "</table>\n",
       "<p>5038333 rows × 4 columns</p>\n",
       "</div>"
      ],
      "text/plain": [
       "         rideable_type member_casual  ride_time  weekday\n",
       "0        electric_bike        member       0.28        6\n",
       "1         classic_bike        member       0.22        6\n",
       "2         classic_bike        member       0.16        6\n",
       "3        electric_bike        member       0.08        4\n",
       "4         classic_bike        member       0.19        5\n",
       "...                ...           ...        ...      ...\n",
       "5098033  electric_bike        member       0.13        1\n",
       "5098034  electric_bike        member       0.02        0\n",
       "5098035  electric_bike        member       0.04        6\n",
       "5098036  electric_bike        member       0.14        1\n",
       "5098037  electric_bike        member       0.06        5\n",
       "\n",
       "[5038333 rows x 4 columns]"
      ]
     },
     "execution_count": 444,
     "metadata": {},
     "output_type": "execute_result"
    }
   ],
   "source": [
    "df = dfall[dfall['ride_time'] > 0]\n",
    "df"
   ]
  },
  {
   "cell_type": "code",
   "execution_count": 459,
   "id": "aef48b3a-9703-4fde-8401-1a520ff44dbb",
   "metadata": {},
   "outputs": [],
   "source": [
    "df.to_csv('final_bike_data.csv')"
   ]
  },
  {
   "cell_type": "code",
   "execution_count": 446,
   "id": "9dbce971-36c1-4d2c-85bf-b4d30101957f",
   "metadata": {},
   "outputs": [
    {
     "data": {
      "text/plain": [
       "0.01"
      ]
     },
     "execution_count": 446,
     "metadata": {},
     "output_type": "execute_result"
    }
   ],
   "source": [
    "df['ride_time'].min()"
   ]
  },
  {
   "cell_type": "code",
   "execution_count": 470,
   "id": "0ffa0b84-2048-4dc9-98d7-c04aecba84f6",
   "metadata": {},
   "outputs": [
    {
     "name": "stderr",
     "output_type": "stream",
     "text": [
      "C:\\Users\\dell\\AppData\\Local\\Temp\\ipykernel_1744\\383468586.py:1: SettingWithCopyWarning: \n",
      "A value is trying to be set on a copy of a slice from a DataFrame.\n",
      "Try using .loc[row_indexer,col_indexer] = value instead\n",
      "\n",
      "See the caveats in the documentation: https://pandas.pydata.org/pandas-docs/stable/user_guide/indexing.html#returning-a-view-versus-a-copy\n",
      "  df['weekday'] = df['weekday'].map({0:\"Monday\",1:\"Tuesday\",2:\"Wednesday\",3:\"Thursday\",4:\"Friday\",5:\"Saturday\",6:\"Sunday\"})\n"
     ]
    }
   ],
   "source": [
    "df['weekday'] = df['weekday'].map({0:\"Monday\",1:\"Tuesday\",2:\"Wednesday\",3:\"Thursday\",4:\"Friday\",5:\"Saturday\",6:\"Sunday\"})"
   ]
  },
  {
   "cell_type": "markdown",
   "id": "9a9c8bce-2727-4374-b334-03657e8b42f4",
   "metadata": {},
   "source": [
    "## Data Visualisation"
   ]
  },
  {
   "cell_type": "code",
   "execution_count": 473,
   "id": "3efa85e8-7174-48be-bf42-b820edb418bf",
   "metadata": {},
   "outputs": [],
   "source": [
    "import matplotlib.pyplot as plt\n",
    "import seaborn as sns\n",
    "import plotly.express as px\n",
    "import plotly.graph_objects as go"
   ]
  },
  {
   "cell_type": "code",
   "execution_count": 479,
   "id": "813cc9d9-d58d-4ccd-ae27-7455f4957311",
   "metadata": {},
   "outputs": [
    {
     "data": {
      "text/plain": [
       "weekday\n",
       "Saturday     797365\n",
       "Thursday     728987\n",
       "Wednesday    725662\n",
       "Friday       712189\n",
       "Tuesday      701357\n",
       "Sunday       695030\n",
       "Monday       677743\n",
       "Name: count, dtype: int64"
      ]
     },
     "execution_count": 479,
     "metadata": {},
     "output_type": "execute_result"
    }
   ],
   "source": [
    "week_days = df['weekday'].value_counts()\n",
    "week_days"
   ]
  },
  {
   "cell_type": "code",
   "execution_count": 483,
   "id": "078c4d4c-75ce-4dff-bacf-60f1d278193f",
   "metadata": {},
   "outputs": [
    {
     "data": {
      "text/html": [
       "<div>\n",
       "<style scoped>\n",
       "    .dataframe tbody tr th:only-of-type {\n",
       "        vertical-align: middle;\n",
       "    }\n",
       "\n",
       "    .dataframe tbody tr th {\n",
       "        vertical-align: top;\n",
       "    }\n",
       "\n",
       "    .dataframe thead th {\n",
       "        text-align: right;\n",
       "    }\n",
       "</style>\n",
       "<table border=\"1\" class=\"dataframe\">\n",
       "  <thead>\n",
       "    <tr style=\"text-align: right;\">\n",
       "      <th></th>\n",
       "      <th>rideable_type</th>\n",
       "      <th>member_casual</th>\n",
       "      <th>ride_time</th>\n",
       "      <th>weekday</th>\n",
       "    </tr>\n",
       "  </thead>\n",
       "  <tbody>\n",
       "    <tr>\n",
       "      <th>0</th>\n",
       "      <td>electric_bike</td>\n",
       "      <td>member</td>\n",
       "      <td>0.28</td>\n",
       "      <td>Sunday</td>\n",
       "    </tr>\n",
       "    <tr>\n",
       "      <th>1</th>\n",
       "      <td>classic_bike</td>\n",
       "      <td>member</td>\n",
       "      <td>0.22</td>\n",
       "      <td>Sunday</td>\n",
       "    </tr>\n",
       "    <tr>\n",
       "      <th>2</th>\n",
       "      <td>classic_bike</td>\n",
       "      <td>member</td>\n",
       "      <td>0.16</td>\n",
       "      <td>Sunday</td>\n",
       "    </tr>\n",
       "    <tr>\n",
       "      <th>3</th>\n",
       "      <td>electric_bike</td>\n",
       "      <td>member</td>\n",
       "      <td>0.08</td>\n",
       "      <td>Friday</td>\n",
       "    </tr>\n",
       "    <tr>\n",
       "      <th>4</th>\n",
       "      <td>classic_bike</td>\n",
       "      <td>member</td>\n",
       "      <td>0.19</td>\n",
       "      <td>Saturday</td>\n",
       "    </tr>\n",
       "  </tbody>\n",
       "</table>\n",
       "</div>"
      ],
      "text/plain": [
       "   rideable_type member_casual  ride_time   weekday\n",
       "0  electric_bike        member       0.28    Sunday\n",
       "1   classic_bike        member       0.22    Sunday\n",
       "2   classic_bike        member       0.16    Sunday\n",
       "3  electric_bike        member       0.08    Friday\n",
       "4   classic_bike        member       0.19  Saturday"
      ]
     },
     "execution_count": 483,
     "metadata": {},
     "output_type": "execute_result"
    }
   ],
   "source": [
    "df.head()"
   ]
  },
  {
   "cell_type": "code",
   "execution_count": null,
   "id": "9dae2a60-5ee9-4ad3-bb05-4f7ac66b7a2e",
   "metadata": {},
   "outputs": [],
   "source": []
  }
 ],
 "metadata": {
  "kernelspec": {
   "display_name": "Python 3 (ipykernel)",
   "language": "python",
   "name": "python3"
  },
  "language_info": {
   "codemirror_mode": {
    "name": "ipython",
    "version": 3
   },
   "file_extension": ".py",
   "mimetype": "text/x-python",
   "name": "python",
   "nbconvert_exporter": "python",
   "pygments_lexer": "ipython3",
   "version": "3.12.4"
  }
 },
 "nbformat": 4,
 "nbformat_minor": 5
}
